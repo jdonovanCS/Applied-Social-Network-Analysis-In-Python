{
 "cells": [
  {
   "cell_type": "markdown",
   "metadata": {},
   "source": [
    "---\n",
    "\n",
    "_You are currently looking at **version 1.1** of this notebook. To download notebooks and datafiles, as well as get help on Jupyter notebooks in the Coursera platform, visit the [Jupyter Notebook FAQ](https://www.coursera.org/learn/python-social-network-analysis/resources/yPcBs) course resource._\n",
    "\n",
    "---"
   ]
  },
  {
   "cell_type": "markdown",
   "metadata": {},
   "source": [
    "# Assignment 1 - Creating and Manipulating Graphs\n",
    "\n",
    "Eight employees at a small company were asked to choose 3 movies that they would most enjoy watching for the upcoming company movie night. These choices are stored in the file `Employee_Movie_Choices.txt`.\n",
    "\n",
    "A second file, `Employee_Relationships.txt`, has data on the relationships between different coworkers. \n",
    "\n",
    "The relationship score has value of `-100` (Enemies) to `+100` (Best Friends). A value of zero means the two employees haven't interacted or are indifferent.\n",
    "\n",
    "Both files are tab delimited."
   ]
  },
  {
   "cell_type": "code",
   "execution_count": 8,
   "metadata": {},
   "outputs": [],
   "source": [
    "import networkx as nx\n",
    "import pandas as pd\n",
    "import numpy as np\n",
    "from networkx.algorithms import bipartite\n",
    "\n",
    "\n",
    "# This is the set of employees\n",
    "employees = set(['Pablo',\n",
    "                 'Lee',\n",
    "                 'Georgia',\n",
    "                 'Vincent',\n",
    "                 'Andy',\n",
    "                 'Frida',\n",
    "                 'Joan',\n",
    "                 'Claude'])\n",
    "\n",
    "# This is the set of movies\n",
    "movies = set(['The Shawshank Redemption',\n",
    "              'Forrest Gump',\n",
    "              'The Matrix',\n",
    "              'Anaconda',\n",
    "              'The Social Network',\n",
    "              'The Godfather',\n",
    "              'Monty Python and the Holy Grail',\n",
    "              'Snakes on a Plane',\n",
    "              'Kung Fu Panda',\n",
    "              'The Dark Knight',\n",
    "              'Mean Girls'])\n",
    "\n",
    "\n",
    "# you can use the following function to plot graphs\n",
    "# make sure to comment it out before submitting to the autograder\n",
    "# def plot_graph(G, weight_name=None):\n",
    "#     '''\n",
    "#     G: a networkx G\n",
    "#     weight_name: name of the attribute for plotting edge weights (if G is weighted)\n",
    "#     '''\n",
    "#     %matplotlib notebook\n",
    "#     import matplotlib.pyplot as plt\n",
    "    \n",
    "#     plt.figure()\n",
    "#     pos = nx.spring_layout(G)\n",
    "#     edges = G.edges()\n",
    "#     weights = None\n",
    "    \n",
    "#     if weight_name:\n",
    "#         weights = [int(G[u][v][weight_name]) for u,v in edges]\n",
    "#         labels = nx.get_edge_attributes(G,weight_name)\n",
    "#         nx.draw_networkx_edge_labels(G,pos,edge_labels=labels)\n",
    "#         nx.draw_networkx(G, pos, edges=edges, width=weights);\n",
    "#     else:\n",
    "#         nx.draw_networkx(G, pos, edges=edges);"
   ]
  },
  {
   "cell_type": "markdown",
   "metadata": {},
   "source": [
    "### Question 1\n",
    "\n",
    "Using NetworkX, load in the bipartite graph from `Employee_Movie_Choices.txt` and return that graph.\n",
    "\n",
    "*This function should return a networkx graph with 19 nodes and 24 edges*"
   ]
  },
  {
   "cell_type": "code",
   "execution_count": 9,
   "metadata": {},
   "outputs": [
    {
     "data": {
      "text/plain": [
       "<networkx.classes.graph.Graph at 0x1230f4cd0>"
      ]
     },
     "execution_count": 9,
     "metadata": {},
     "output_type": "execute_result"
    }
   ],
   "source": [
    "def answer_one():\n",
    "    \n",
    "    G = nx.read_edgelist('Employee_Movie_Choices.txt', delimiter='\\t')\n",
    "    \n",
    "    return G\n",
    "answer_one()"
   ]
  },
  {
   "cell_type": "markdown",
   "metadata": {},
   "source": [
    "### Question 2\n",
    "\n",
    "Using the graph from the previous question, add nodes attributes named `'type'` where movies have the value `'movie'` and employees have the value `'employee'` and return that graph.\n",
    "\n",
    "*This function should return a networkx graph with node attributes `{'type': 'movie'}` or `{'type': 'employee'}`*"
   ]
  },
  {
   "cell_type": "code",
   "execution_count": 10,
   "metadata": {},
   "outputs": [
    {
     "data": {
      "text/plain": [
       "<networkx.classes.graph.Graph at 0x12310d2d0>"
      ]
     },
     "execution_count": 10,
     "metadata": {},
     "output_type": "execute_result"
    }
   ],
   "source": [
    "def answer_two():\n",
    "    \n",
    "    G = answer_one()\n",
    "    for n in G.nodes():\n",
    "        if n in employees:\n",
    "            G.add_node(n, type=\"employee\")\n",
    "        else:\n",
    "            G.add_node(n, type=\"movie\")\n",
    "    return G\n",
    "answer_two()"
   ]
  },
  {
   "cell_type": "markdown",
   "metadata": {
    "collapsed": true
   },
   "source": [
    "### Question 3\n",
    "\n",
    "Find a weighted projection of the graph from `answer_two` which tells us how many movies different pairs of employees have in common.\n",
    "\n",
    "*This function should return a weighted projected graph.*"
   ]
  },
  {
   "cell_type": "code",
   "execution_count": 11,
   "metadata": {},
   "outputs": [
    {
     "data": {
      "text/plain": [
       "<networkx.classes.graph.Graph at 0x1231036d0>"
      ]
     },
     "execution_count": 11,
     "metadata": {},
     "output_type": "execute_result"
    }
   ],
   "source": [
    "def answer_three():\n",
    "        \n",
    "    G = answer_two()\n",
    "    WPG = bipartite.weighted_projected_graph(G, employees)\n",
    "    return WPG\n",
    "answer_three()"
   ]
  },
  {
   "cell_type": "markdown",
   "metadata": {
    "collapsed": true
   },
   "source": [
    "### Question 4\n",
    "\n",
    "Suppose you'd like to find out if people that have a high relationship score also like the same types of movies.\n",
    "\n",
    "Find the Pearson correlation ( using `DataFrame.corr()` ) between employee relationship scores and the number of movies they have in common. If two employees have no movies in common it should be treated as a 0, not a missing value, and should be included in the correlation calculation.\n",
    "\n",
    "*This function should return a float.*"
   ]
  },
  {
   "cell_type": "code",
   "execution_count": 12,
   "metadata": {},
   "outputs": [
    {
     "name": "stdout",
     "output_type": "stream",
     "text": [
      "       From       To   movies_score\n",
      "0      Joan     Andy  {'weight': 1}\n",
      "1      Joan      Lee  {'weight': 3}\n",
      "2       Lee     Andy  {'weight': 1}\n",
      "3    Claude     Andy  {'weight': 1}\n",
      "4    Claude  Georgia  {'weight': 3}\n",
      "5      Andy    Frida  {'weight': 1}\n",
      "6      Andy    Pablo  {'weight': 1}\n",
      "7      Andy  Georgia  {'weight': 1}\n",
      "8     Frida    Pablo  {'weight': 2}\n",
      "9     Frida  Vincent  {'weight': 2}\n",
      "10    Pablo  Vincent  {'weight': 1}\n",
      "0      Andy     Joan  {'weight': 1}\n",
      "1       Lee     Joan  {'weight': 3}\n",
      "2      Andy      Lee  {'weight': 1}\n",
      "3      Andy   Claude  {'weight': 1}\n",
      "4   Georgia   Claude  {'weight': 3}\n",
      "5     Frida     Andy  {'weight': 1}\n",
      "6     Pablo     Andy  {'weight': 1}\n",
      "7   Georgia     Andy  {'weight': 1}\n",
      "8     Pablo    Frida  {'weight': 2}\n",
      "9   Vincent    Frida  {'weight': 2}\n",
      "10  Vincent    Pablo  {'weight': 1}\n",
      "       From       To  movies_score  relationship_score\n",
      "0      Joan      Lee           3.0                  70\n",
      "1    Claude  Georgia           3.0                  90\n",
      "2      Andy    Frida           1.0                  20\n",
      "3      Andy    Pablo           1.0                 -10\n",
      "4      Andy  Georgia           1.0                 -10\n",
      "5     Frida    Pablo           2.0                  50\n",
      "6     Frida  Vincent           2.0                  60\n",
      "7     Pablo  Vincent           1.0                 -20\n",
      "8      Andy     Joan           1.0                  30\n",
      "9      Andy      Lee           1.0                 -10\n",
      "10     Andy   Claude           1.0                   0\n",
      "11     Andy  Vincent           0.0                  20\n",
      "12   Claude    Frida           0.0                   0\n",
      "13   Claude     Joan           0.0                   0\n",
      "14   Claude      Lee           0.0                   0\n",
      "15   Claude    Pablo           0.0                  10\n",
      "16   Claude  Vincent           0.0                   0\n",
      "17    Frida  Georgia           0.0                   0\n",
      "18    Frida     Joan           0.0                   0\n",
      "19    Frida      Lee           0.0                   0\n",
      "20  Georgia     Joan           0.0                   0\n",
      "21  Georgia      Lee           0.0                  10\n",
      "22  Georgia    Pablo           0.0                   0\n",
      "23  Georgia  Vincent           0.0                   0\n",
      "24     Joan    Pablo           0.0                   0\n",
      "25     Joan  Vincent           0.0                  10\n",
      "26      Lee    Pablo           0.0                   0\n",
      "27      Lee  Vincent           0.0                   0\n"
     ]
    },
    {
     "data": {
      "text/plain": [
       "0.7883962221733474"
      ]
     },
     "execution_count": 12,
     "metadata": {},
     "output_type": "execute_result"
    }
   ],
   "source": [
    "def answer_four():\n",
    "        \n",
    "    #Read in relationship graph and convert to datafram\n",
    "    RG = nx.read_edgelist('Employee_Relationships.txt', data=[('relationship_score', int)])\n",
    "    RG_df = pd.DataFrame(RG.edges(data=True), columns=['From', 'To', 'relationship_score'])\n",
    "        \n",
    "    #Read in previous graph of movies and employees and convert to datafram\n",
    "    G = answer_three()\n",
    "    G_df = pd.DataFrame(G.edges(data=True), columns=['From', 'To', 'movies_score'])\n",
    "    \n",
    "    #Make a copy of the movie/employee dataframe for experimentation\n",
    "    G_copy_df = G_df.copy()\n",
    "    \n",
    "    #Change the edge direction to make a directed graph in two directions\n",
    "    G_copy_df.rename(columns={\"From\":\"From_\", \"To\":\"From\"}, inplace=True)\n",
    "    G_copy_df.rename(columns={\"From_\":\"To\"}, inplace=True)\n",
    "    \n",
    "    #Add the original copy and the experimental copy together to have the two directions\n",
    "    G_final_df = pd.concat([G_df, G_copy_df])\n",
    "    print (G_final_df)\n",
    "    \n",
    "    #Merge the two dataframes on the From and To fields\n",
    "    final_df = pd.merge(G_final_df, RG_df, on = ['From', 'To'], how='right')\n",
    "    \n",
    "    #Set the movie score equal to the weight\n",
    "    final_df['movies_score'] = final_df['movies_score'].map(lambda x: x['weight'] if type(x)==dict else None)\n",
    "    \n",
    "    #Set the relationship score equal to the relationship_score value from the attributes\n",
    "    final_df['relationship_score'] = final_df['relationship_score'].map(lambda x: x['relationship_score'])\n",
    "    \n",
    "    #Fill all NA values with 0 in movie score column\n",
    "    final_df['movies_score'].fillna(value=0, inplace=True)\n",
    "    print (final_df)\n",
    "    \n",
    "    #Perform correlation and return\n",
    "    return final_df['movies_score'].corr(final_df['relationship_score'])\n",
    "\n",
    "answer_four()"
   ]
  },
  {
   "cell_type": "code",
   "execution_count": null,
   "metadata": {},
   "outputs": [],
   "source": []
  },
  {
   "cell_type": "code",
   "execution_count": null,
   "metadata": {},
   "outputs": [],
   "source": []
  },
  {
   "cell_type": "code",
   "execution_count": null,
   "metadata": {},
   "outputs": [],
   "source": []
  }
 ],
 "metadata": {
  "coursera": {
   "course_slug": "python-social-network-analysis",
   "graded_item_id": "YNa9b",
   "launcher_item_id": "hvNc1",
   "part_id": "VbyiB"
  },
  "kernelspec": {
   "display_name": "Python 3",
   "language": "python",
   "name": "python3"
  },
  "language_info": {
   "codemirror_mode": {
    "name": "ipython",
    "version": 3
   },
   "file_extension": ".py",
   "mimetype": "text/x-python",
   "name": "python",
   "nbconvert_exporter": "python",
   "pygments_lexer": "ipython3",
   "version": "3.7.4"
  }
 },
 "nbformat": 4,
 "nbformat_minor": 2
}
